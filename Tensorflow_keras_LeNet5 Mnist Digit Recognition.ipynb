{
 "cells": [
  {
   "cell_type": "code",
   "execution_count": 9,
   "metadata": {
    "id": "7jWILDN2Q5xH"
   },
   "outputs": [],
   "source": [
    "import tensorflow as tf\n",
    "import matplotlib.pyplot as plt\n",
    "from tensorflow.keras import datasets, layers, models, losses"
   ]
  },
  {
   "cell_type": "code",
   "execution_count": 10,
   "metadata": {
    "colab": {
     "base_uri": "https://localhost:8080/"
    },
    "id": "UnneioLrT7jQ",
    "outputId": "97c829ff-558f-4a89-96d0-0d58312b395c"
   },
   "outputs": [
    {
     "data": {
      "text/plain": [
       "(60000, 28, 28)"
      ]
     },
     "execution_count": 10,
     "metadata": {
      "tags": []
     },
     "output_type": "execute_result"
    }
   ],
   "source": [
    "(x_train,y_train),(x_test,y_test) = datasets.mnist.load_data()\n",
    "x_train.shape"
   ]
  },
  {
   "cell_type": "code",
   "execution_count": 11,
   "metadata": {
    "colab": {
     "base_uri": "https://localhost:8080/"
    },
    "id": "eCx0kbZ9UB9b",
    "outputId": "756cb022-d8b6-4f5c-8215-8775f1608686"
   },
   "outputs": [
    {
     "data": {
      "text/plain": [
       "TensorShape([60000, 32, 32])"
      ]
     },
     "execution_count": 11,
     "metadata": {
      "tags": []
     },
     "output_type": "execute_result"
    }
   ],
   "source": [
    "x_train = tf.pad(x_train, [[0, 0], [2,2], [2,2]])/255\n",
    "x_test = tf.pad(x_test, [[0, 0], [2,2], [2,2]])/255\n",
    "x_train.shape"
   ]
  },
  {
   "cell_type": "code",
   "execution_count": 12,
   "metadata": {
    "colab": {
     "base_uri": "https://localhost:8080/"
    },
    "id": "oHowLJc8UCDs",
    "outputId": "93472ead-8fcc-4b21-9dee-080b1d9a84cd"
   },
   "outputs": [
    {
     "data": {
      "text/plain": [
       "TensorShape([60000, 32, 32, 1])"
      ]
     },
     "execution_count": 12,
     "metadata": {
      "tags": []
     },
     "output_type": "execute_result"
    }
   ],
   "source": [
    "x_train = tf.expand_dims(x_train, axis = 3,name = None)\n",
    "x_test = tf.expand_dims(x_test, axis = 3,name = None)\n",
    "x_train.shape"
   ]
  },
  {
   "cell_type": "code",
   "execution_count": 13,
   "metadata": {
    "id": "wiQQp6nFU8Nu"
   },
   "outputs": [],
   "source": [
    "x_val = x_train[-2000:,:,:,:] \n",
    "y_val = y_train[-2000:] \n",
    "x_train = x_train[:-2000,:,:,:] \n",
    "y_train = y_train[:-2000]"
   ]
  },
  {
   "cell_type": "code",
   "execution_count": 14,
   "metadata": {
    "colab": {
     "base_uri": "https://localhost:8080/"
    },
    "id": "KqFcDN1SVB0w",
    "outputId": "b2854af8-b1cf-4944-cdeb-b8ab70849fd2"
   },
   "outputs": [
    {
     "name": "stdout",
     "output_type": "stream",
     "text": [
      "Model: \"sequential\"\n",
      "_________________________________________________________________\n",
      "Layer (type)                 Output Shape              Param #   \n",
      "=================================================================\n",
      "conv2d (Conv2D)              (None, 28, 28, 6)         156       \n",
      "_________________________________________________________________\n",
      "average_pooling2d (AveragePo (None, 14, 14, 6)         0         \n",
      "_________________________________________________________________\n",
      "activation (Activation)      (None, 14, 14, 6)         0         \n",
      "_________________________________________________________________\n",
      "conv2d_1 (Conv2D)            (None, 10, 10, 16)        2416      \n",
      "_________________________________________________________________\n",
      "average_pooling2d_1 (Average (None, 5, 5, 16)          0         \n",
      "_________________________________________________________________\n",
      "activation_1 (Activation)    (None, 5, 5, 16)          0         \n",
      "_________________________________________________________________\n",
      "conv2d_2 (Conv2D)            (None, 1, 1, 120)         48120     \n",
      "_________________________________________________________________\n",
      "flatten (Flatten)            (None, 120)               0         \n",
      "_________________________________________________________________\n",
      "dense (Dense)                (None, 84)                10164     \n",
      "_________________________________________________________________\n",
      "dense_1 (Dense)              (None, 10)                850       \n",
      "=================================================================\n",
      "Total params: 61,706\n",
      "Trainable params: 61,706\n",
      "Non-trainable params: 0\n",
      "_________________________________________________________________\n"
     ]
    }
   ],
   "source": [
    "model = models.Sequential()\n",
    "model.add(layers.Conv2D(6, 5, activation='tanh', input_shape=x_train.shape[1:]))\n",
    "model.add(layers.AveragePooling2D(2))\n",
    "model.add(layers.Activation('sigmoid'))\n",
    "model.add(layers.Conv2D(16, 5, activation='tanh'))\n",
    "model.add(layers.AveragePooling2D(2))\n",
    "model.add(layers.Activation('sigmoid'))\n",
    "model.add(layers.Conv2D(120, 5, activation='tanh'))\n",
    "model.add(layers.Flatten())\n",
    "model.add(layers.Dense(84, activation='tanh'))\n",
    "model.add(layers.Dense(10, activation='softmax'))\n",
    "model.summary()"
   ]
  },
  {
   "cell_type": "code",
   "execution_count": 15,
   "metadata": {
    "colab": {
     "base_uri": "https://localhost:8080/"
    },
    "id": "Nakpm5XEVWBd",
    "outputId": "0486e071-d2a7-48ea-9ef8-7d51f0a99538"
   },
   "outputs": [
    {
     "name": "stdout",
     "output_type": "stream",
     "text": [
      "Epoch 1/40\n",
      "907/907 [==============================] - 34s 37ms/step - loss: 1.6824 - accuracy: 0.3766 - val_loss: 0.4273 - val_accuracy: 0.8825\n",
      "Epoch 2/40\n",
      "907/907 [==============================] - 33s 36ms/step - loss: 0.4387 - accuracy: 0.8610 - val_loss: 0.2740 - val_accuracy: 0.9215\n",
      "Epoch 3/40\n",
      "907/907 [==============================] - 33s 36ms/step - loss: 0.3259 - accuracy: 0.8982 - val_loss: 0.2067 - val_accuracy: 0.9380\n",
      "Epoch 4/40\n",
      "907/907 [==============================] - 32s 35ms/step - loss: 0.2742 - accuracy: 0.9141 - val_loss: 0.1822 - val_accuracy: 0.9515\n",
      "Epoch 5/40\n",
      "907/907 [==============================] - 31s 35ms/step - loss: 0.2380 - accuracy: 0.9246 - val_loss: 0.2735 - val_accuracy: 0.9160\n",
      "Epoch 6/40\n",
      "907/907 [==============================] - 32s 35ms/step - loss: 0.2226 - accuracy: 0.9293 - val_loss: 0.1598 - val_accuracy: 0.9535\n",
      "Epoch 7/40\n",
      "907/907 [==============================] - 31s 35ms/step - loss: 0.1958 - accuracy: 0.9378 - val_loss: 0.1623 - val_accuracy: 0.9495\n",
      "Epoch 8/40\n",
      "907/907 [==============================] - 32s 35ms/step - loss: 0.1831 - accuracy: 0.9427 - val_loss: 0.1378 - val_accuracy: 0.9620\n",
      "Epoch 9/40\n",
      "907/907 [==============================] - 32s 35ms/step - loss: 0.1733 - accuracy: 0.9448 - val_loss: 0.1194 - val_accuracy: 0.9645\n",
      "Epoch 10/40\n",
      "907/907 [==============================] - 31s 34ms/step - loss: 0.1643 - accuracy: 0.9477 - val_loss: 0.1426 - val_accuracy: 0.9540\n",
      "Epoch 11/40\n",
      "907/907 [==============================] - 31s 35ms/step - loss: 0.1547 - accuracy: 0.9511 - val_loss: 0.1120 - val_accuracy: 0.9670\n",
      "Epoch 12/40\n",
      "907/907 [==============================] - 32s 35ms/step - loss: 0.1475 - accuracy: 0.9527 - val_loss: 0.1098 - val_accuracy: 0.9730\n",
      "Epoch 13/40\n",
      "907/907 [==============================] - 31s 34ms/step - loss: 0.1407 - accuracy: 0.9557 - val_loss: 0.1007 - val_accuracy: 0.9740\n",
      "Epoch 14/40\n",
      "907/907 [==============================] - 31s 34ms/step - loss: 0.1316 - accuracy: 0.9583 - val_loss: 0.1876 - val_accuracy: 0.9370\n",
      "Epoch 15/40\n",
      "907/907 [==============================] - 32s 35ms/step - loss: 0.1284 - accuracy: 0.9591 - val_loss: 0.0894 - val_accuracy: 0.9765\n",
      "Epoch 16/40\n",
      "907/907 [==============================] - 32s 35ms/step - loss: 0.1214 - accuracy: 0.9613 - val_loss: 0.0838 - val_accuracy: 0.9790\n",
      "Epoch 17/40\n",
      "907/907 [==============================] - 32s 35ms/step - loss: 0.1159 - accuracy: 0.9637 - val_loss: 0.0810 - val_accuracy: 0.9770\n",
      "Epoch 18/40\n",
      "907/907 [==============================] - 32s 35ms/step - loss: 0.1142 - accuracy: 0.9643 - val_loss: 0.0822 - val_accuracy: 0.9785\n",
      "Epoch 19/40\n",
      "907/907 [==============================] - 31s 34ms/step - loss: 0.1103 - accuracy: 0.9654 - val_loss: 0.0703 - val_accuracy: 0.9800\n",
      "Epoch 20/40\n",
      "907/907 [==============================] - 31s 34ms/step - loss: 0.1092 - accuracy: 0.9656 - val_loss: 0.0933 - val_accuracy: 0.9745\n",
      "Epoch 21/40\n",
      "907/907 [==============================] - 31s 35ms/step - loss: 0.1036 - accuracy: 0.9682 - val_loss: 0.0886 - val_accuracy: 0.9745\n",
      "Epoch 22/40\n",
      "907/907 [==============================] - 31s 35ms/step - loss: 0.0971 - accuracy: 0.9687 - val_loss: 0.0734 - val_accuracy: 0.9810\n",
      "Epoch 23/40\n",
      "907/907 [==============================] - 31s 35ms/step - loss: 0.0961 - accuracy: 0.9694 - val_loss: 0.0825 - val_accuracy: 0.9790\n",
      "Epoch 24/40\n",
      "907/907 [==============================] - 31s 35ms/step - loss: 0.0987 - accuracy: 0.9687 - val_loss: 0.1037 - val_accuracy: 0.9685\n",
      "Epoch 25/40\n",
      "907/907 [==============================] - 32s 35ms/step - loss: 0.0901 - accuracy: 0.9709 - val_loss: 0.0736 - val_accuracy: 0.9820\n",
      "Epoch 26/40\n",
      "907/907 [==============================] - 32s 35ms/step - loss: 0.0902 - accuracy: 0.9718 - val_loss: 0.0722 - val_accuracy: 0.9850\n",
      "Epoch 27/40\n",
      "907/907 [==============================] - 32s 35ms/step - loss: 0.0885 - accuracy: 0.9718 - val_loss: 0.0843 - val_accuracy: 0.9765\n",
      "Epoch 28/40\n",
      "907/907 [==============================] - 32s 35ms/step - loss: 0.0844 - accuracy: 0.9735 - val_loss: 0.0582 - val_accuracy: 0.9850\n",
      "Epoch 29/40\n",
      "907/907 [==============================] - 32s 35ms/step - loss: 0.0841 - accuracy: 0.9732 - val_loss: 0.0766 - val_accuracy: 0.9795\n",
      "Epoch 30/40\n",
      "907/907 [==============================] - 32s 36ms/step - loss: 0.0809 - accuracy: 0.9741 - val_loss: 0.0913 - val_accuracy: 0.9730\n",
      "Epoch 31/40\n",
      "907/907 [==============================] - 32s 36ms/step - loss: 0.0818 - accuracy: 0.9737 - val_loss: 0.0656 - val_accuracy: 0.9815\n",
      "Epoch 32/40\n",
      "907/907 [==============================] - 33s 36ms/step - loss: 0.0792 - accuracy: 0.9742 - val_loss: 0.0595 - val_accuracy: 0.9865\n",
      "Epoch 33/40\n",
      "907/907 [==============================] - 32s 35ms/step - loss: 0.0773 - accuracy: 0.9751 - val_loss: 0.0691 - val_accuracy: 0.9820\n",
      "Epoch 34/40\n",
      "907/907 [==============================] - 32s 35ms/step - loss: 0.0732 - accuracy: 0.9765 - val_loss: 0.0704 - val_accuracy: 0.9825\n",
      "Epoch 35/40\n",
      "907/907 [==============================] - 31s 35ms/step - loss: 0.0752 - accuracy: 0.9759 - val_loss: 0.0606 - val_accuracy: 0.9860\n",
      "Epoch 36/40\n",
      "907/907 [==============================] - 32s 35ms/step - loss: 0.0740 - accuracy: 0.9769 - val_loss: 0.0646 - val_accuracy: 0.9850\n",
      "Epoch 37/40\n",
      "907/907 [==============================] - 32s 36ms/step - loss: 0.0726 - accuracy: 0.9762 - val_loss: 0.0504 - val_accuracy: 0.9865\n",
      "Epoch 38/40\n",
      "907/907 [==============================] - 32s 36ms/step - loss: 0.0714 - accuracy: 0.9766 - val_loss: 0.0735 - val_accuracy: 0.9810\n",
      "Epoch 39/40\n",
      "907/907 [==============================] - 32s 36ms/step - loss: 0.0701 - accuracy: 0.9774 - val_loss: 0.0863 - val_accuracy: 0.9760\n",
      "Epoch 40/40\n",
      "907/907 [==============================] - 32s 36ms/step - loss: 0.0674 - accuracy: 0.9787 - val_loss: 0.0869 - val_accuracy: 0.9750\n"
     ]
    }
   ],
   "source": [
    "model.compile(optimizer='adam', loss=losses.sparse_categorical_crossentropy, metrics=['accuracy'])\n",
    "history = model.fit(x_train, y_train, batch_size=64, epochs=40, validation_data=(x_val, y_val))"
   ]
  },
  {
   "cell_type": "code",
   "execution_count": 16,
   "metadata": {
    "colab": {
     "base_uri": "https://localhost:8080/",
     "height": 896
    },
    "id": "uE9h48E4VeRF",
    "outputId": "3791b632-c5c3-4ca1-b662-479d7a7688c9"
   },
   "outputs": [
    {
     "data": {
      "text/plain": [
       "<matplotlib.legend.Legend at 0x7efe6de90e50>"
      ]
     },
     "execution_count": 16,
     "metadata": {
      "tags": []
     },
     "output_type": "execute_result"
    },
    {
     "data": {
      "image/png": "[encoded data removed]",
      "text/plain": [
       "<Figure size 1080x1080 with 2 Axes>"
      ]
     },
     "metadata": {
      "needs_background": "light",
      "tags": []
     },
     "output_type": "display_data"
    }
   ],
   "source": [
    "fig, axs = plt.subplots(2, 1, figsize=(15,15))\n",
    "axs[0].plot(history.history['loss']) \n",
    "axs[0].plot(history.history['val_loss']) \n",
    "axs[0].title.set_text('Training Loss vs Validation Loss') \n",
    "axs[0].legend(['Train', 'Val'])  \n",
    "axs[1].plot(history.history['accuracy']) \n",
    "axs[1].plot(history.history['val_accuracy']) \n",
    "axs[1].title.set_text('Training Accuracy vs Validation Accuracy') \n",
    "axs[1].legend(['Train', 'Val'])"
   ]
  },
  {
   "cell_type": "code",
   "execution_count": 17,
   "metadata": {
    "colab": {
     "base_uri": "https://localhost:8080/"
    },
    "id": "DRXe4cv4bnXq",
    "outputId": "064cc82c-9d73-40c3-af4b-0c25edbb1e97"
   },
   "outputs": [
    {
     "name": "stdout",
     "output_type": "stream",
     "text": [
      "313/313 [==============================] - 3s 10ms/step - loss: 0.1159 - accuracy: 0.9650\n"
     ]
    },
    {
     "data": {
      "text/plain": [
       "[0.11586444079875946, 0.9649999737739563]"
      ]
     },
     "execution_count": 17,
     "metadata": {
      "tags": []
     },
     "output_type": "execute_result"
    }
   ],
   "source": [
    "model.evaluate(x_test, y_test)"
   ]
  }
 ],
 "metadata": {
  "colab": {
   "name": "Untitled3.ipynb",
   "provenance": []
  },
  "kernelspec": {
   "display_name": "Python 3",
   "language": "python",
   "name": "python3"
  },
  "language_info": {
   "codemirror_mode": {
    "name": "ipython",
    "version": 3
   },
   "file_extension": ".py",
   "mimetype": "text/x-python",
   "name": "python",
   "nbconvert_exporter": "python",
   "pygments_lexer": "ipython3",
   "version": "3.7.6"
  }
 },
 "nbformat": 4,
 "nbformat_minor": 1
}
